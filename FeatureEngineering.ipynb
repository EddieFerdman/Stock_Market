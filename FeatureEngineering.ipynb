{
 "cells": [
  {
   "cell_type": "markdown",
   "metadata": {},
   "source": [
    "# Feature Engineering\n",
    "Starting dataset consists of daily candle stick data for a certain ticker and a certain time period"
   ]
  },
  {
   "cell_type": "markdown",
   "metadata": {},
   "source": [
    "## Table Of Features\n",
    "Original Features:\n",
    "1. Date\n",
    "2. High\n",
    "3. Low\n",
    "4. Open\n",
    "5. Close\n",
    "6. Volume\n",
    "\n",
    "__NEW FEATURES:__\n",
    "7. Avg_Vol_20: Average volume over past 20 days\n",
    "8. Vol_Ratio1: Daily volume / 20 day average volume\n",
    "9. Open/Close: Current day open / previous day close\n",
    "10. Low/Open: Lowest point of the day / opening\n",
    "11. High/Open: Highest point of the day / opening\n",
    "12. DailyLogReturn: $log(S_0/S_{-1})$\n",
    "13. SquaredDailyLogReturn: $(log(S_0/S_{-1}))^2$\n",
    "14. SMA10: Simple moving average over 10-days\n",
    "15. SMA30: Simple moving average over 30-days\n",
    "16. SMA_Ratio: SMA30 / SMA10\n",
    "17. EMA: Exponential Moving Average\n",
    "18. Stochastic Oscillator\n",
    "\n",
    "__IN PROGRESS:__\n",
    "1. Support and Resistance Levels\n",
    "2. Trend Lines\n",
    "\n",
    "\n",
    "__TARGET VARIABLES:__\n",
    "1. Target1: Binary classification, Up(1) movement vs Down(0) movement, closing price of the following day vs current closing price\n",
    "2. Target2: 10% increase within 5 days\n",
    "3. Target3: Multiclassification: Up/Down movement in increments of 5%\n",
    "\n",
    "<br>\n",
    "\n",
    "<font color = red> __NOTE:__ <font color = black> I will be concatenating data from a number of tickers, so many features cannot be used without careful preprocessing"
   ]
  },
  {
   "cell_type": "code",
   "execution_count": 1,
   "metadata": {},
   "outputs": [],
   "source": [
    "import pandas as pd\n",
    "import numpy as np\n",
    "import matplotlib.pyplot as plt\n",
    "import time, datetime\n",
    "import math\n",
    "import os"
   ]
  },
  {
   "cell_type": "code",
   "execution_count": 2,
   "metadata": {},
   "outputs": [],
   "source": [
    "os.chdir(\"C:\\\\Users\\\\Eddie\\\\Documents\\\\Stock_Market\")"
   ]
  },
  {
   "cell_type": "code",
   "execution_count": 3,
   "metadata": {},
   "outputs": [
    {
     "name": "stderr",
     "output_type": "stream",
     "text": [
      "C:\\Users\\Eddie\\Anaconda3\\envs\\tensorflow\\lib\\site-packages\\pandas_datareader\\compat\\__init__.py:7: FutureWarning: pandas.util.testing is deprecated. Use the functions in the public API at pandas.testing instead.\n",
      "  from pandas.util.testing import assert_frame_equal\n"
     ]
    }
   ],
   "source": [
    "import pandas_datareader as web"
   ]
  },
  {
   "cell_type": "code",
   "execution_count": 4,
   "metadata": {},
   "outputs": [],
   "source": [
    "#Choose ticker and timeline for data import\n",
    "ticker = 'VBIV'\n",
    "start_date = '2019-01-01'\n",
    "end_date = datetime.date.today()"
   ]
  },
  {
   "cell_type": "code",
   "execution_count": 5,
   "metadata": {},
   "outputs": [],
   "source": [
    "df = web.DataReader(ticker, data_source = 'yahoo', start = start_date, end = end_date).reset_index()\n",
    "df['Symbol'] = ticker"
   ]
  },
  {
   "cell_type": "code",
   "execution_count": 6,
   "metadata": {},
   "outputs": [
    {
     "data": {
      "image/png": "[encoded data removed]",
      "text/plain": [
       "<PIL.PngImagePlugin.PngImageFile image mode=RGBA size=946x422 at 0x19ECF338D08>"
      ]
     },
     "execution_count": 6,
     "metadata": {},
     "output_type": "execute_result"
    }
   ],
   "source": [
    "from PIL import Image\n",
    "\n",
    "#Github is having some trouble with the code below, so I am showing an image of the output instead.\n",
    "#It is a visual representation of the intial data pull.\n",
    "\n",
    "#import plotly.graph_objs as go\n",
    "#sub_df = df.iloc[:10]\n",
    "#data = [go.Candlestick(x = sub_df['Date'], open = sub_df['Open'], high = sub_df['High'], low = sub_df['Low'], close = sub_df['Close'])]\n",
    "#figSignal = go.Figure(data=data)\n",
    "#figSignal.show()\n",
    "\n",
    "\n",
    "Image.open('CandleSticks.png')\n"
   ]
  },
  {
   "cell_type": "markdown",
   "metadata": {},
   "source": [
    "### Feature1: Average Volume over 20 day period"
   ]
  },
  {
   "cell_type": "code",
   "execution_count": 7,
   "metadata": {},
   "outputs": [],
   "source": [
    "df['Avg_Vol_20'] = -1\n",
    "for row in range(20, df.shape[0]):\n",
    "    df.iloc[row, -1] = np.mean(df.iloc[row-20:row, df.columns.get_loc('Volume')])"
   ]
  },
  {
   "cell_type": "markdown",
   "metadata": {},
   "source": [
    "### Feature2: Daily Volume to Avg Volume Ratio"
   ]
  },
  {
   "cell_type": "code",
   "execution_count": 8,
   "metadata": {},
   "outputs": [],
   "source": [
    "df['Vol_Ratio1'] = df['Volume'] / df['Avg_Vol_20']"
   ]
  },
  {
   "cell_type": "markdown",
   "metadata": {},
   "source": [
    "### Feature3: Open:PrevClose Ratio"
   ]
  },
  {
   "cell_type": "code",
   "execution_count": 9,
   "metadata": {},
   "outputs": [],
   "source": [
    "df['Open/Close'] = -1\n",
    "for row in range(1, df.shape[0]):\n",
    "    df.iloc[row,-1] = df.iloc[row, df.columns.get_loc('Open')] / df.iloc[row-1, df.columns.get_loc('Close')]"
   ]
  },
  {
   "cell_type": "markdown",
   "metadata": {},
   "source": [
    "### Feature4: daily Low/Open Ratio "
   ]
  },
  {
   "cell_type": "code",
   "execution_count": 10,
   "metadata": {},
   "outputs": [],
   "source": [
    "df['Low/Open'] = df['Low'] / df['Open']"
   ]
  },
  {
   "cell_type": "markdown",
   "metadata": {},
   "source": [
    "### Feature5: Daily High/Open Ratio "
   ]
  },
  {
   "cell_type": "code",
   "execution_count": 11,
   "metadata": {},
   "outputs": [],
   "source": [
    "df['High/Open'] = df['High'] / df['Open']"
   ]
  },
  {
   "cell_type": "markdown",
   "metadata": {},
   "source": [
    "### Feature6: Daily Log Return"
   ]
  },
  {
   "cell_type": "code",
   "execution_count": 12,
   "metadata": {},
   "outputs": [],
   "source": [
    "df['DailyLogReturn'] = -1\n",
    "for row in range(1, df.shape[0]):\n",
    "    df.iloc[row, -1] = math.log(df.iloc[row, df.columns.get_loc('Close')] / df.iloc[row-1, df.columns.get_loc('Close')])"
   ]
  },
  {
   "cell_type": "markdown",
   "metadata": {},
   "source": [
    "### Feature7: Squared Daily Log Return"
   ]
  },
  {
   "cell_type": "code",
   "execution_count": 13,
   "metadata": {},
   "outputs": [],
   "source": [
    "df['SquaredDailyLogReturn'] = df['DailyLogReturn']**2"
   ]
  },
  {
   "cell_type": "markdown",
   "metadata": {},
   "source": [
    "### Feature8: exponential weights for feature7 "
   ]
  },
  {
   "cell_type": "markdown",
   "metadata": {},
   "source": [
    "### Feature9: Simple Moving Average (SMA) (10-day)"
   ]
  },
  {
   "cell_type": "code",
   "execution_count": 14,
   "metadata": {},
   "outputs": [],
   "source": [
    "#10-day arithmetic moving average\n",
    "df['SMA10'] = -1\n",
    "for row in range(10, df.shape[0]):\n",
    "    df.iloc[row, -1] = np.average(df.iloc[row-10:row, df.columns.get_loc('Close')])"
   ]
  },
  {
   "cell_type": "markdown",
   "metadata": {},
   "source": [
    "### Feature10: SMA (30-day)"
   ]
  },
  {
   "cell_type": "code",
   "execution_count": 15,
   "metadata": {},
   "outputs": [],
   "source": [
    "#30-day arithmetic moving average\n",
    "df['SMA30'] = -1\n",
    "for row in range(30, df.shape[0]):\n",
    "    df.iloc[row, -1] = np.average(df.iloc[row-30:row, df.columns.get_loc('Close')])"
   ]
  },
  {
   "cell_type": "markdown",
   "metadata": {},
   "source": [
    "### Feature11: Long term to short term SMA ratio: Feature10/Feature9\n",
    "Idea: If long term SMA > short term SMA, this could indicate an uptrend is expected."
   ]
  },
  {
   "cell_type": "code",
   "execution_count": 16,
   "metadata": {
    "scrolled": true
   },
   "outputs": [],
   "source": [
    "df['SMA_Ratio'] = df['SMA30'] / df['SMA10']"
   ]
  },
  {
   "cell_type": "markdown",
   "metadata": {},
   "source": [
    "### Feature12: Exponential Moving Average (EMA)\n",
    "More weight is placed on recent closing prices\n",
    "\n",
    "Formula:\n"
   ]
  },
  {
   "cell_type": "markdown",
   "metadata": {},
   "source": [
    "$$EMA_{Today} = (Close_{Today}* \\frac {Smoothing}{1 + Days}) + (EMA_{Yesterday} * (1 - \\frac {Smoothing}{1 + Days}))$$\n",
    "\n",
    "Source: Investopedia.com"
   ]
  },
  {
   "cell_type": "code",
   "execution_count": 17,
   "metadata": {},
   "outputs": [],
   "source": [
    "Smoothing = 2\n",
    "Days = 12\n",
    "\n",
    "df['EMA12'] = -1\n",
    "#The first observation of EMA will not a have a previous EMA so we will use a 12-day SMA\n",
    "df.iloc[12, -1] = (df.iloc[row, df.columns.get_loc('Close')] * Smoothing / (1 + Days)\n",
    "                   + (np.average(df.iloc[0:12, df.columns.get_loc('Close')]) * (1 - (Smoothing / (1 + Days)))))\n",
    "\n",
    "#For the remaining observations, we will use the previous EMA as in the formula\n",
    "for row in range(13, df.shape[0]):\n",
    "    df.iloc[row, -1] = (df.iloc[row, df.columns.get_loc('Close')] * Smoothing / (1 + Days)\n",
    "                   + (df.iloc[row - 1, -1]) * (1 - (Smoothing / (1 + Days))))\n",
    "\n"
   ]
  },
  {
   "cell_type": "markdown",
   "metadata": {},
   "source": [
    "### Feature13: Stochastic Oscillator (14 days)\n",
    "Used as a signal for an overbough and oversold asset. Range 0-100.\n",
    "<br>\n",
    "K > 80 : Overbought range\n",
    "<br>\n",
    "K < 20 : Oversold range"
   ]
  },
  {
   "cell_type": "markdown",
   "metadata": {},
   "source": [
    "$$ K = \\frac {C - L14}{H14 - L14} *  100$$"
   ]
  },
  {
   "cell_type": "markdown",
   "metadata": {},
   "source": [
    "C = The most recent closing price.\n",
    "<br>\n",
    "L14 = The lowest price traded of th 14 previous trading sessions.\n",
    "<br>\n",
    "H14 = The highest price traded fo the 14 previous trading sessions.\n",
    "<br>\n",
    "K = The current value of the stochastic indicator.\n",
    "\n",
    "source = Investopedia.com"
   ]
  },
  {
   "cell_type": "code",
   "execution_count": 18,
   "metadata": {},
   "outputs": [],
   "source": [
    "df['StochasticOscillator'] = -1\n",
    "for row in range(13, df.shape[0]):\n",
    "    df.iloc[row, -1] = ((df.iloc[row, df.columns.get_loc('Close')] - np.min(df.iloc[row-13:row+1, df.columns.get_loc('Low')]))\n",
    "                        / (np.max(df.iloc[row-13:row+1, df.columns.get_loc('High')]) - np.min(df.iloc[row-13:row+1, df.columns.get_loc('Low')]))\n",
    "                        * 100)\n"
   ]
  },
  {
   "cell_type": "markdown",
   "metadata": {},
   "source": [
    "## Target Variables"
   ]
  },
  {
   "cell_type": "code",
   "execution_count": 19,
   "metadata": {},
   "outputs": [],
   "source": [
    "#Target1: Binary- Up(1) or Down(0) movement, closing price to closing price\n",
    "df['Target1'] = -1\n",
    "for row in range(0, df.shape[0]-1):\n",
    "    if df.iloc[row, df.columns.get_loc('Close')] < df.iloc[row+1, df.columns.get_loc('Close')]:\n",
    "        df.iloc[row, -1] = 1\n",
    "    else:\n",
    "        df.iloc[row, -1] = 0"
   ]
  },
  {
   "cell_type": "code",
   "execution_count": 20,
   "metadata": {},
   "outputs": [],
   "source": [
    "#Target2: Binary: (1)Price increases by 10% withing 5 days, or not(0)\n",
    "df['Target2'] = -1\n",
    "for row in range(0, df.shape[0]-4):\n",
    "    if df.iloc[row, df.columns.get_loc('Close')] * 1.1 < np.max(df.iloc[row+1:row+6, df.columns.get_loc('High')]):\n",
    "        df.iloc[row, -1] = 1\n",
    "    else:\n",
    "        df.iloc[row, -1] = 0"
   ]
  },
  {
   "cell_type": "code",
   "execution_count": 21,
   "metadata": {},
   "outputs": [],
   "source": [
    "#Target3: Multiclassification: Next days movement\n",
    "df['Target3'] = -1\n",
    "for row in range(df.shape[0] - 1):\n",
    "    current_close = df.iloc[row, df.columns.get_loc('Close')]\n",
    "    next_close = df.iloc[row + 1, df.columns.get_loc('Close')]\n",
    "    ratio = next_close / current_close\n",
    "    \n",
    "    if ratio <= 0.9:\n",
    "        df.iloc[row, -1] = 1\n",
    "    elif ratio <= 0.95:\n",
    "        df.iloc[row, -1] = 2\n",
    "    elif ratio <= 1:\n",
    "        df.iloc[row, -1] = 3\n",
    "    elif ratio <= 1.05:\n",
    "        df.iloc[row, -1] = 4\n",
    "    elif ratio <= 1.1:\n",
    "        df.iloc[row, -1] = 5\n",
    "    else:\n",
    "        df.iloc[row, -1] = 6\n"
   ]
  },
  {
   "cell_type": "markdown",
   "metadata": {},
   "source": [
    "# In Progress "
   ]
  },
  {
   "cell_type": "markdown",
   "metadata": {},
   "source": [
    "## Suppor and Resistance Levels"
   ]
  },
  {
   "cell_type": "code",
   "execution_count": null,
   "metadata": {},
   "outputs": [],
   "source": [
    "price20 = df.iloc[:100, df.columns.get_loc('Close')]"
   ]
  },
  {
   "cell_type": "code",
   "execution_count": null,
   "metadata": {},
   "outputs": [],
   "source": [
    "plt.plot(price20)\n",
    "plt.hlines(min(price20), 0, 100, colors = 'b')\n",
    "plt.hlines(max(price20), 0 ,100, colors = 'r')\n",
    "plt.ylabel('Stock Price')\n",
    "plt.show()"
   ]
  },
  {
   "cell_type": "code",
   "execution_count": null,
   "metadata": {},
   "outputs": [],
   "source": [
    "value = price20[0]\n",
    "\n",
    "#if the pattern stays for 2-3 moves then record min/max\n",
    "i = 1\n",
    "next_val = price20[i]\n",
    "if next_val >= value:\n",
    "    direction = 'up'\n",
    "    min_val = value\n",
    "else:\n",
    "    direction = 'down'\n",
    "    max_val = value"
   ]
  },
  {
   "cell_type": "code",
   "execution_count": null,
   "metadata": {},
   "outputs": [],
   "source": [
    "i += 1\n",
    "next_val  "
   ]
  },
  {
   "cell_type": "code",
   "execution_count": null,
   "metadata": {},
   "outputs": [],
   "source": []
  }
 ],
 "metadata": {
  "kernelspec": {
   "display_name": "Python 3",
   "language": "python",
   "name": "python3"
  },
  "language_info": {
   "codemirror_mode": {
    "name": "ipython",
    "version": 3
   },
   "file_extension": ".py",
   "mimetype": "text/x-python",
   "name": "python",
   "nbconvert_exporter": "python",
   "pygments_lexer": "ipython3",
   "version": "3.7.7"
  }
 },
 "nbformat": 4,
 "nbformat_minor": 4
}

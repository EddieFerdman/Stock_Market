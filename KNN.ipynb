{
 "cells": [
  {
   "cell_type": "markdown",
   "metadata": {},
   "source": [
    "# KNN classifier"
   ]
  },
  {
   "cell_type": "markdown",
   "metadata": {},
   "source": [
    "### Target2: 10% increase in 5 days"
   ]
  },
  {
   "cell_type": "code",
   "execution_count": 1,
   "metadata": {},
   "outputs": [],
   "source": [
    "import pandas as pd\n",
    "import numpy as np\n",
    "import time, datetime\n",
    "import math\n",
    "import matplotlib.pyplot as plt"
   ]
  },
  {
   "cell_type": "markdown",
   "metadata": {},
   "source": [
    "### Gather data and create features"
   ]
  },
  {
   "cell_type": "code",
   "execution_count": 2,
   "metadata": {},
   "outputs": [
    {
     "name": "stderr",
     "output_type": "stream",
     "text": [
      "C:\\Users\\Eddie\\Anaconda3\\envs\\tensorflow\\lib\\site-packages\\pandas_datareader\\compat\\__init__.py:7: FutureWarning: pandas.util.testing is deprecated. Use the functions in the public API at pandas.testing instead.\n",
      "  from pandas.util.testing import assert_frame_equal\n"
     ]
    }
   ],
   "source": [
    "import pandas_datareader as web"
   ]
  },
  {
   "cell_type": "code",
   "execution_count": 3,
   "metadata": {},
   "outputs": [],
   "source": [
    "tickers = ['VBIV', 'AGRX', 'VXRT', 'JAGX', 'MNKD', 'OPK', 'IMGN']"
   ]
  },
  {
   "cell_type": "code",
   "execution_count": 4,
   "metadata": {},
   "outputs": [],
   "source": [
    "today = datetime.date.today()\n",
    "start_date = '2018-01-01'\n",
    "end_date = today"
   ]
  },
  {
   "cell_type": "code",
   "execution_count": 5,
   "metadata": {},
   "outputs": [],
   "source": [
    "#The following function loads the data for each ticker and creates the features and target variables\n",
    "#For more information about each feature see FeaturesEngineering.ipynb\n",
    "\n",
    "def get_data(ticker):\n",
    "    df = web.DataReader(ticker, data_source = 'yahoo', start = start_date, end = end_date)\n",
    "    df = df.reset_index()\n",
    "    df['Symbol'] = ticker\n",
    "    \n",
    "    df['Avg_Vol_20'] = -1\n",
    "    for row in range(20, df.shape[0]):\n",
    "        df.iloc[row, -1] = np.mean(df.iloc[row-20:row, df.columns.get_loc('Volume')])\n",
    "    \n",
    "    df['Vol_Ratio1'] = df['Volume'] / df['Avg_Vol_20']\n",
    "    \n",
    "    df['Open/Close'] = -1\n",
    "    for row in range(1, df.shape[0]):\n",
    "        df.iloc[row,-1] = df.iloc[row, df.columns.get_loc('Open')] / df.iloc[row-1, df.columns.get_loc('Close')]\n",
    "    \n",
    "    df['Low/Open'] = df['Low'] / df['Open']\n",
    "    df['High/Open'] = df['High'] / df['Open']\n",
    "    \n",
    "    df['DailyLogReturn'] = -1\n",
    "    for row in range(1, df.shape[0]):\n",
    "        df.iloc[row, -1] = math.log(df.iloc[row, df.columns.get_loc('Close')] / df.iloc[row-1, df.columns.get_loc('Close')])\n",
    "\n",
    "    df['SquaredDailyLogReturn'] = df['DailyLogReturn']**2\n",
    "    \n",
    "    df['SMA10'] = -1\n",
    "    for row in range(10, df.shape[0]):\n",
    "        df.iloc[row, -1] = np.average(df.iloc[row-10:row, df.columns.get_loc('Close')])\n",
    "    \n",
    "    df['SMA30'] = -1\n",
    "    for row in range(30, df.shape[0]):\n",
    "        df.iloc[row, -1] = np.average(df.iloc[row-30:row, df.columns.get_loc('Close')])\n",
    "        \n",
    "    df['SMA_Ratio'] = df['SMA30'] / df['SMA10']\n",
    "    \n",
    "    Smoothing = 2\n",
    "    Days = 12\n",
    "    df['EMA12'] = -1\n",
    "    #The first observation of EMA will not a have a previous EMA so we will use a 12-day SMA\n",
    "    df.iloc[12, -1] = (df.iloc[row, df.columns.get_loc('Close')] * Smoothing / (1 + Days)\n",
    "                       + (np.average(df.iloc[0:12, df.columns.get_loc('Close')]) * (1 - (Smoothing / (1 + Days)))))\n",
    "\n",
    "    #For the remaining observations, we will use the previous EMA as in the formula\n",
    "    for row in range(13, df.shape[0]):\n",
    "        df.iloc[row, -1] = (df.iloc[row, df.columns.get_loc('Close')] * Smoothing / (1 + Days)\n",
    "                       + (df.iloc[row - 1, -1]) * (1 - (Smoothing / (1 + Days))))    \n",
    "    \n",
    "    df['StochasticOscillator'] = -1\n",
    "    for row in range(13, df.shape[0]):\n",
    "        df.iloc[row, -1] = ((df.iloc[row, df.columns.get_loc('Close')] - np.min(df.iloc[row-13:row+1, df.columns.get_loc('Low')]))\n",
    "                            / (np.max(df.iloc[row-13:row+1, df.columns.get_loc('High')]) - np.min(df.iloc[row-13:row+1, df.columns.get_loc('Low')]))\n",
    "                            * 100)\n",
    "        \n",
    "    #Target1: Binary- Up(1) or Down(0) movement, closing price to closing price\n",
    "    df['Target1'] = -1\n",
    "    for row in range(0, df.shape[0]-1):\n",
    "        if df.iloc[row, df.columns.get_loc('Close')] < df.iloc[row+1, df.columns.get_loc('Close')]:\n",
    "            df.iloc[row, -1] = 1\n",
    "        else:\n",
    "            df.iloc[row, -1] = 0\n",
    "            \n",
    "            \n",
    "    #Target2: Binary: (1)Price increases by 10% withing 5 days, or not(0)\n",
    "    df['Target2'] = -1\n",
    "    for row in range(0, df.shape[0]-4):\n",
    "        if df.iloc[row, df.columns.get_loc('Close')] * 1.1 < np.max(df.iloc[row+1:row+6, df.columns.get_loc('High')]):\n",
    "            df.iloc[row, -1] = 1\n",
    "        else:\n",
    "            df.iloc[row, -1] = 0\n",
    "            \n",
    "            \n",
    "    #Target3: Multiclassification: Next days movement\n",
    "    df['Target3'] = -1\n",
    "    for row in range(df.shape[0] - 1):\n",
    "        current_close = df.iloc[row, df.columns.get_loc('Close')]\n",
    "        next_close = df.iloc[row + 1, df.columns.get_loc('Close')]\n",
    "        ratio = next_close / current_close\n",
    "\n",
    "        if ratio <= 0.9:\n",
    "            df.iloc[row, -1] = 1\n",
    "        elif ratio <= 0.95:\n",
    "            df.iloc[row, -1] = 2\n",
    "        elif ratio <= 1:\n",
    "            df.iloc[row, -1] = 3\n",
    "        elif ratio <= 1.05:\n",
    "            df.iloc[row, -1] = 4\n",
    "        elif ratio <= 1.1:\n",
    "            df.iloc[row, -1] = 5\n",
    "        else:\n",
    "            df.iloc[row, -1] = 6\n",
    "        \n",
    "    df = df[(df['Avg_Vol_20'] != -1) & (df['Open/Close'] != -1) & (df['SMA10'] != -1) & (df['SMA30'] != -1)\n",
    "            & (df['EMA12'] != -1) & (df['StochasticOscillator'] != -1) & (df['Target1'] != -1)\n",
    "            & (df['Target2'] != -1) & (df['Target3'] != -1)]\n",
    "            \n",
    "    return df \n",
    "    "
   ]
  },
  {
   "cell_type": "code",
   "execution_count": 6,
   "metadata": {},
   "outputs": [
    {
     "name": "stdout",
     "output_type": "stream",
     "text": [
      "24.36577558517456\n"
     ]
    }
   ],
   "source": [
    "start_time = time.time()\n",
    "\n",
    "df = pd.DataFrame()\n",
    "\n",
    "for ticker in tickers:\n",
    "    sub_df = get_data(ticker)\n",
    "    df = pd.concat([df, sub_df])\n",
    "    \n",
    "print(time.time() - start_time)"
   ]
  },
  {
   "cell_type": "markdown",
   "metadata": {},
   "source": [
    "### Target2 Count"
   ]
  },
  {
   "cell_type": "code",
   "execution_count": 7,
   "metadata": {},
   "outputs": [
    {
     "data": {
      "text/html": [
       "<div>\n",
       "<style scoped>\n",
       "    .dataframe tbody tr th:only-of-type {\n",
       "        vertical-align: middle;\n",
       "    }\n",
       "\n",
       "    .dataframe tbody tr th {\n",
       "        vertical-align: top;\n",
       "    }\n",
       "\n",
       "    .dataframe thead th {\n",
       "        text-align: right;\n",
       "    }\n",
       "</style>\n",
       "<table border=\"1\" class=\"dataframe\">\n",
       "  <thead>\n",
       "    <tr style=\"text-align: right;\">\n",
       "      <th></th>\n",
       "      <th>Symbol</th>\n",
       "    </tr>\n",
       "    <tr>\n",
       "      <th>Target2</th>\n",
       "      <th></th>\n",
       "    </tr>\n",
       "  </thead>\n",
       "  <tbody>\n",
       "    <tr>\n",
       "      <th>0</th>\n",
       "      <td>2700</td>\n",
       "    </tr>\n",
       "    <tr>\n",
       "      <th>1</th>\n",
       "      <td>1514</td>\n",
       "    </tr>\n",
       "  </tbody>\n",
       "</table>\n",
       "</div>"
      ],
      "text/plain": [
       "         Symbol\n",
       "Target2        \n",
       "0          2700\n",
       "1          1514"
      ]
     },
     "execution_count": 7,
     "metadata": {},
     "output_type": "execute_result"
    }
   ],
   "source": [
    "df[['Target2', 'Symbol']].groupby('Target2').count()"
   ]
  },
  {
   "cell_type": "markdown",
   "metadata": {},
   "source": [
    "### Train Test Split"
   ]
  },
  {
   "cell_type": "code",
   "execution_count": 8,
   "metadata": {},
   "outputs": [],
   "source": [
    "#X_features = list(df.columns)[8:-3]\n",
    "X_features = (['Vol_Ratio1',\n",
    "             'Open/Close',\n",
    "             'Low/Open',\n",
    "             'High/Open',\n",
    "             'DailyLogReturn',\n",
    "             'SquaredDailyLogReturn',\n",
    "             'SMA_Ratio',\n",
    "             'StochasticOscillator'])\n",
    "y_feature = 'Target2'"
   ]
  },
  {
   "cell_type": "code",
   "execution_count": 9,
   "metadata": {},
   "outputs": [],
   "source": [
    "from sklearn.model_selection import train_test_split"
   ]
  },
  {
   "cell_type": "code",
   "execution_count": 10,
   "metadata": {},
   "outputs": [],
   "source": [
    "X_train, X_test, y_train, y_test = train_test_split(df[X_features], df[y_feature], random_state = 0)"
   ]
  },
  {
   "cell_type": "code",
   "execution_count": 11,
   "metadata": {},
   "outputs": [
    {
     "name": "stdout",
     "output_type": "stream",
     "text": [
      "(3160, 8)\n"
     ]
    }
   ],
   "source": [
    "print(X_train.shape)"
   ]
  },
  {
   "cell_type": "markdown",
   "metadata": {},
   "source": [
    "### Performance Metrics"
   ]
  },
  {
   "cell_type": "code",
   "execution_count": 12,
   "metadata": {},
   "outputs": [],
   "source": [
    "from sklearn.metrics import accuracy_score, recall_score, precision_score, confusion_matrix"
   ]
  },
  {
   "cell_type": "code",
   "execution_count": 13,
   "metadata": {},
   "outputs": [],
   "source": [
    "def performance(model, X_train, X_test, y_train, y_test):\n",
    "    y_pred_train = model.predict(X_train)\n",
    "    y_pred_test = model.predict(X_test)\n",
    "    \n",
    "    \n",
    "    print('Model train accuracy: %0.3f' % accuracy_score(y_train, y_pred_train))\n",
    "    print('Model test accuracy: %0.3f' % accuracy_score(y_test, y_pred_test))\n",
    "    \n",
    "    \n",
    "    \n",
    "    #confusion matrix\n",
    "    print('Confusion Matrix:')\n",
    "    print(confusion_matrix(y_test, y_pred_test))\n",
    "    \n",
    "    print('')\n",
    "    #accuracy\n",
    "    print('Accuracy score: ', accuracy_score(y_test, y_pred_test))\n",
    "    \n",
    "    print(' ')\n",
    "    #recall score\n",
    "    print('Recall score: ', recall_score(y_test, y_pred_test))\n",
    "    \n",
    "    print(' ')\n",
    "    #precision score\n",
    "    print('Precision score: ', precision_score(y_test, y_pred_test))"
   ]
  },
  {
   "cell_type": "markdown",
   "metadata": {},
   "source": [
    "### Scaling"
   ]
  },
  {
   "cell_type": "code",
   "execution_count": 14,
   "metadata": {},
   "outputs": [],
   "source": [
    "from sklearn.preprocessing import scale"
   ]
  },
  {
   "cell_type": "code",
   "execution_count": 15,
   "metadata": {},
   "outputs": [],
   "source": [
    "X_train_scaled = scale(X_train)\n",
    "X_test_scaled = scale(X_test)"
   ]
  },
  {
   "cell_type": "markdown",
   "metadata": {},
   "source": [
    "### KNN Model without scaling"
   ]
  },
  {
   "cell_type": "code",
   "execution_count": 16,
   "metadata": {},
   "outputs": [],
   "source": [
    "from sklearn.neighbors import KNeighborsClassifier"
   ]
  },
  {
   "cell_type": "code",
   "execution_count": 17,
   "metadata": {},
   "outputs": [
    {
     "name": "stdout",
     "output_type": "stream",
     "text": [
      "1\n",
      "1 predictions:  359\n",
      "Precision: 0.379\n",
      "2\n",
      "1 predictions:  119\n",
      "Precision: 0.412\n",
      "3\n",
      "1 predictions:  290\n",
      "Precision: 0.376\n",
      "4\n",
      "1 predictions:  125\n",
      "Precision: 0.392\n",
      "5\n",
      "1 predictions:  225\n",
      "Precision: 0.418\n",
      "6\n",
      "1 predictions:  108\n",
      "Precision: 0.407\n",
      "7\n",
      "1 predictions:  202\n",
      "Precision: 0.396\n",
      "8\n",
      "1 predictions:  115\n",
      "Precision: 0.391\n",
      "9\n",
      "1 predictions:  181\n",
      "Precision: 0.381\n",
      "10\n",
      "1 predictions:  109\n",
      "Precision: 0.385\n"
     ]
    }
   ],
   "source": [
    "for k in range(1, 11):\n",
    "    clf = KNeighborsClassifier(n_neighbors = k)\n",
    "    model1 = clf.fit(X_train, y_train)\n",
    "    y_pred = model1.predict(X_test)\n",
    "    cm = confusion_matrix(y_test, y_pred)\n",
    "    print(k)\n",
    "    print('1 predictions: ', cm[0][1] + cm[1][1])\n",
    "    print('Precision: %.3f' % precision_score(y_test, y_pred))\n"
   ]
  },
  {
   "cell_type": "markdown",
   "metadata": {},
   "source": [
    "### KNN after scaling"
   ]
  },
  {
   "cell_type": "code",
   "execution_count": 18,
   "metadata": {},
   "outputs": [],
   "source": [
    "model2 = clf.fit(X_train_scaled, y_train)"
   ]
  },
  {
   "cell_type": "code",
   "execution_count": 19,
   "metadata": {},
   "outputs": [
    {
     "name": "stdout",
     "output_type": "stream",
     "text": [
      "Model train accuracy: 0.692\n",
      "Model test accuracy: 0.642\n",
      "Confusion Matrix:\n",
      "[[620  65]\n",
      " [312  57]]\n",
      "\n",
      "Accuracy score:  0.642314990512334\n",
      " \n",
      "Recall score:  0.15447154471544716\n",
      " \n",
      "Precision score:  0.4672131147540984\n"
     ]
    }
   ],
   "source": [
    "performance(model2, X_train_scaled, X_test_scaled, y_train, y_test)"
   ]
  },
  {
   "cell_type": "code",
   "execution_count": 20,
   "metadata": {},
   "outputs": [
    {
     "name": "stdout",
     "output_type": "stream",
     "text": [
      "1\n",
      "1 predictions:  385\n",
      "Precision: 0.392\n",
      "2\n",
      "1 predictions:  150\n",
      "Precision: 0.440\n",
      "3\n",
      "1 predictions:  303\n",
      "Precision: 0.432\n",
      "4\n",
      "1 predictions:  155\n",
      "Precision: 0.452\n",
      "5\n",
      "1 predictions:  260\n",
      "Precision: 0.446\n",
      "6\n",
      "1 predictions:  149\n",
      "Precision: 0.470\n",
      "7\n",
      "1 predictions:  231\n",
      "Precision: 0.450\n",
      "8\n",
      "1 predictions:  137\n",
      "Precision: 0.474\n",
      "9\n",
      "1 predictions:  200\n",
      "Precision: 0.425\n",
      "10\n",
      "1 predictions:  122\n",
      "Precision: 0.467\n"
     ]
    }
   ],
   "source": [
    "for k in range(1, 11):\n",
    "    clf = KNeighborsClassifier(n_neighbors = k)\n",
    "    model1 = clf.fit(X_train_scaled, y_train)\n",
    "    y_pred = model1.predict(X_test_scaled)\n",
    "    cm = confusion_matrix(y_test, y_pred)\n",
    "    print(k)\n",
    "    print('1 predictions: ', cm[0][1] + cm[1][1])\n",
    "    print('Precision: %.3f' % precision_score(y_test, y_pred))"
   ]
  },
  {
   "cell_type": "markdown",
   "metadata": {},
   "source": [
    "### Dummy Classifier"
   ]
  },
  {
   "cell_type": "code",
   "execution_count": 21,
   "metadata": {},
   "outputs": [],
   "source": [
    "from sklearn.dummy import DummyClassifier"
   ]
  },
  {
   "cell_type": "code",
   "execution_count": 22,
   "metadata": {},
   "outputs": [],
   "source": [
    "strategies = ['most_frequent', 'stratified', 'uniform'] "
   ]
  },
  {
   "cell_type": "code",
   "execution_count": 23,
   "metadata": {},
   "outputs": [
    {
     "name": "stdout",
     "output_type": "stream",
     "text": [
      "most_frequent\n",
      "Model train accuracy: 0.638\n",
      "Model test accuracy: 0.650\n",
      "Confusion Matrix:\n",
      "[[685   0]\n",
      " [369   0]]\n",
      "\n",
      "Accuracy score:  0.6499051233396584\n",
      " \n",
      "Recall score:  0.0\n",
      " \n",
      "Precision score:  0.0\n",
      "stratified\n",
      "Model train accuracy: 0.531\n",
      "Model test accuracy: 0.581\n",
      "Confusion Matrix:\n",
      "[[464 221]\n",
      " [221 148]]\n",
      "\n",
      "Accuracy score:  0.5806451612903226\n",
      " \n",
      "Recall score:  0.4010840108401084\n",
      " \n",
      "Precision score:  0.4010840108401084\n",
      "uniform\n",
      "Model train accuracy: 0.510\n",
      "Model test accuracy: 0.509\n",
      "Confusion Matrix:\n",
      "[[348 337]\n",
      " [180 189]]\n",
      "\n",
      "Accuracy score:  0.5094876660341556\n",
      " \n",
      "Recall score:  0.5121951219512195\n",
      " \n",
      "Precision score:  0.3593155893536122\n"
     ]
    },
    {
     "name": "stderr",
     "output_type": "stream",
     "text": [
      "C:\\Users\\Eddie\\Anaconda3\\envs\\tensorflow\\lib\\site-packages\\sklearn\\metrics\\_classification.py:1221: UndefinedMetricWarning: Precision is ill-defined and being set to 0.0 due to no predicted samples. Use `zero_division` parameter to control this behavior.\n",
      "  _warn_prf(average, modifier, msg_start, len(result))\n"
     ]
    }
   ],
   "source": [
    "for s in strategies:\n",
    "    print(s)\n",
    "    if s == 'constant':\n",
    "        dclf = DummyClassifier(strategy = s, random_state = 0, constant = 'M').fit(X_train, y_train)\n",
    "    else:\n",
    "        dclf = DummyClassifier(strategy = s, random_state = 0).fit(X_train, y_train)\n",
    "    performance(dclf, X_train, X_test, y_train, y_test)"
   ]
  }
 ],
 "metadata": {
  "kernelspec": {
   "display_name": "Python 3",
   "language": "python",
   "name": "python3"
  },
  "language_info": {
   "codemirror_mode": {
    "name": "ipython",
    "version": 3
   },
   "file_extension": ".py",
   "mimetype": "text/x-python",
   "name": "python",
   "nbconvert_exporter": "python",
   "pygments_lexer": "ipython3",
   "version": "3.7.7"
  }
 },
 "nbformat": 4,
 "nbformat_minor": 4
}

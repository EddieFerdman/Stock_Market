{
 "cells": [
  {
   "cell_type": "markdown",
   "metadata": {},
   "source": [
    "# Target2: 10% in 5 days Classification\n",
    "---"
   ]
  },
  {
   "cell_type": "markdown",
   "metadata": {},
   "source": [
    "### Table of Contents:\n",
    "1. Import data and create features and target variables\n",
    "2. TrainTestSplit and Feature Scaling\n",
    "3. Performance Definition\n",
    "4. Model1: DecisionTreeClassifier\n",
    "5. Model2: RandomForestClassifier\n",
    "6. Model3: LogisticRegression\n",
    "7. Model4: SVC\n",
    "8. Model5: KNN\n",
    "9. Model6: Dummy Classifier\n",
    "9. Performance Comparisons\n",
    "\n",
    "---"
   ]
  },
  {
   "cell_type": "code",
   "execution_count": 1,
   "metadata": {},
   "outputs": [],
   "source": [
    "import pandas as pd\n",
    "import numpy as np\n",
    "import time, datetime\n",
    "import math\n",
    "import matplotlib.pyplot as plt"
   ]
  },
  {
   "cell_type": "markdown",
   "metadata": {},
   "source": [
    "### 1. Import data and create features and target variables"
   ]
  },
  {
   "cell_type": "code",
   "execution_count": 3,
   "metadata": {},
   "outputs": [],
   "source": [
    "import pandas_datareader as web"
   ]
  },
  {
   "cell_type": "code",
   "execution_count": 4,
   "metadata": {},
   "outputs": [],
   "source": [
    "#List of stock tickers for data gathering\n",
    "tickers = ['VBIV', 'AGRX', 'VXRT', 'JAGX', 'MNKD', 'OPK', 'IMGN']"
   ]
  },
  {
   "cell_type": "code",
   "execution_count": 5,
   "metadata": {},
   "outputs": [],
   "source": [
    "#Set timeline for data\n",
    "start_date = '2018-01-01'\n",
    "end_date = datetime.date.today()"
   ]
  },
  {
   "cell_type": "code",
   "execution_count": 6,
   "metadata": {},
   "outputs": [],
   "source": [
    "#The following function loads the data for each ticker and creates the features and target variables\n",
    "#For more information about each feature see FeaturesEngineering.ipynb\n",
    "\n",
    "def get_data(ticker):\n",
    "    df = web.DataReader(ticker, data_source = 'yahoo', start = start_date, end = end_date)\n",
    "    df = df.reset_index()\n",
    "    df['Symbol'] = ticker\n",
    "    \n",
    "    df['Avg_Vol_20'] = -1\n",
    "    for row in range(20, df.shape[0]):\n",
    "        df.iloc[row, -1] = np.mean(df.iloc[row-20:row, df.columns.get_loc('Volume')])\n",
    "    \n",
    "    df['Vol_Ratio1'] = df['Volume'] / df['Avg_Vol_20']\n",
    "    \n",
    "    df['Open/Close'] = -1\n",
    "    for row in range(1, df.shape[0]):\n",
    "        df.iloc[row,-1] = df.iloc[row, df.columns.get_loc('Open')] / df.iloc[row-1, df.columns.get_loc('Close')]\n",
    "    \n",
    "    df['Low/Open'] = df['Low'] / df['Open']\n",
    "    df['High/Open'] = df['High'] / df['Open']\n",
    "    \n",
    "    df['DailyLogReturn'] = -1\n",
    "    for row in range(1, df.shape[0]):\n",
    "        df.iloc[row, -1] = math.log(df.iloc[row, df.columns.get_loc('Close')] / df.iloc[row-1, df.columns.get_loc('Close')])\n",
    "\n",
    "    df['SquaredDailyLogReturn'] = df['DailyLogReturn']**2\n",
    "    \n",
    "    df['SMA10'] = -1\n",
    "    for row in range(10, df.shape[0]):\n",
    "        df.iloc[row, -1] = np.average(df.iloc[row-10:row, df.columns.get_loc('Close')])\n",
    "    \n",
    "    df['SMA30'] = -1\n",
    "    for row in range(30, df.shape[0]):\n",
    "        df.iloc[row, -1] = np.average(df.iloc[row-30:row, df.columns.get_loc('Close')])\n",
    "        \n",
    "    df['SMA_Ratio'] = df['SMA30'] / df['SMA10']\n",
    "    \n",
    "    Smoothing = 2\n",
    "    Days = 12\n",
    "    df['EMA12'] = -1\n",
    "    #The first observation of EMA will not a have a previous EMA so we will use a 12-day SMA\n",
    "    df.iloc[12, -1] = (df.iloc[row, df.columns.get_loc('Close')] * Smoothing / (1 + Days)\n",
    "                       + (np.average(df.iloc[0:12, df.columns.get_loc('Close')]) * (1 - (Smoothing / (1 + Days)))))\n",
    "\n",
    "    #For the remaining observations, we will use the previous EMA as in the formula\n",
    "    for row in range(13, df.shape[0]):\n",
    "        df.iloc[row, -1] = (df.iloc[row, df.columns.get_loc('Close')] * Smoothing / (1 + Days)\n",
    "                       + (df.iloc[row - 1, -1]) * (1 - (Smoothing / (1 + Days))))    \n",
    "    \n",
    "    df['StochasticOscillator'] = -1\n",
    "    for row in range(13, df.shape[0]):\n",
    "        df.iloc[row, -1] = ((df.iloc[row, df.columns.get_loc('Close')] - np.min(df.iloc[row-13:row+1, df.columns.get_loc('Low')]))\n",
    "                            / (np.max(df.iloc[row-13:row+1, df.columns.get_loc('High')]) - np.min(df.iloc[row-13:row+1, df.columns.get_loc('Low')]))\n",
    "                            * 100)\n",
    "        \n",
    "    #Target1: Binary- Up(1) or Down(0) movement, closing price to closing price\n",
    "    df['Target1'] = -1\n",
    "    for row in range(0, df.shape[0]-1):\n",
    "        if df.iloc[row, df.columns.get_loc('Close')] < df.iloc[row+1, df.columns.get_loc('Close')]:\n",
    "            df.iloc[row, -1] = 1\n",
    "        else:\n",
    "            df.iloc[row, -1] = 0\n",
    "            \n",
    "            \n",
    "    #Target2: Binary: (1)Price increases by 10% withing 5 days, or not(0)\n",
    "    df['Target2'] = -1\n",
    "    for row in range(0, df.shape[0]-4):\n",
    "        if df.iloc[row, df.columns.get_loc('Close')] * 1.1 < np.max(df.iloc[row+1:row+6, df.columns.get_loc('High')]):\n",
    "            df.iloc[row, -1] = 1\n",
    "        else:\n",
    "            df.iloc[row, -1] = 0\n",
    "            \n",
    "            \n",
    "    #Target3: Multiclassification: Next days movement\n",
    "    df['Target3'] = -1\n",
    "    for row in range(df.shape[0] - 1):\n",
    "        current_close = df.iloc[row, df.columns.get_loc('Close')]\n",
    "        next_close = df.iloc[row + 1, df.columns.get_loc('Close')]\n",
    "        ratio = next_close / current_close\n",
    "\n",
    "        if ratio <= 0.9:\n",
    "            df.iloc[row, -1] = 1\n",
    "        elif ratio <= 0.95:\n",
    "            df.iloc[row, -1] = 2\n",
    "        elif ratio <= 1:\n",
    "            df.iloc[row, -1] = 3\n",
    "        elif ratio <= 1.05:\n",
    "            df.iloc[row, -1] = 4\n",
    "        elif ratio <= 1.1:\n",
    "            df.iloc[row, -1] = 5\n",
    "        else:\n",
    "            df.iloc[row, -1] = 6\n",
    "        \n",
    "    df = df[(df['Avg_Vol_20'] != -1) & (df['Open/Close'] != -1) & (df['SMA10'] != -1) & (df['SMA30'] != -1)\n",
    "            & (df['EMA12'] != -1) & (df['StochasticOscillator'] != -1) & (df['Target1'] != -1)\n",
    "            & (df['Target2'] != -1) & (df['Target3'] != -1)]\n",
    "            \n",
    "    return df \n",
    "    "
   ]
  },
  {
   "cell_type": "code",
   "execution_count": 7,
   "metadata": {},
   "outputs": [
    {
     "name": "stdout",
     "output_type": "stream",
     "text": [
      "23.34967350959778\n"
     ]
    }
   ],
   "source": [
    "#Run above function for each ticker and concatenate all dataframes into one master dataframe\n",
    "start_time = time.time()\n",
    "\n",
    "df = pd.DataFrame()\n",
    "\n",
    "for ticker in tickers:\n",
    "    sub_df = get_data(ticker)\n",
    "    df = pd.concat([df, sub_df], ignore_index = True)\n",
    "    \n",
    "print(time.time() - start_time)"
   ]
  },
  {
   "cell_type": "markdown",
   "metadata": {},
   "source": [
    "### Target2 Count"
   ]
  },
  {
   "cell_type": "code",
   "execution_count": 8,
   "metadata": {},
   "outputs": [
    {
     "data": {
      "text/html": [
       "<div>\n",
       "<style scoped>\n",
       "    .dataframe tbody tr th:only-of-type {\n",
       "        vertical-align: middle;\n",
       "    }\n",
       "\n",
       "    .dataframe tbody tr th {\n",
       "        vertical-align: top;\n",
       "    }\n",
       "\n",
       "    .dataframe thead th {\n",
       "        text-align: right;\n",
       "    }\n",
       "</style>\n",
       "<table border=\"1\" class=\"dataframe\">\n",
       "  <thead>\n",
       "    <tr style=\"text-align: right;\">\n",
       "      <th></th>\n",
       "      <th>Symbol</th>\n",
       "    </tr>\n",
       "    <tr>\n",
       "      <th>Target2</th>\n",
       "      <th></th>\n",
       "    </tr>\n",
       "  </thead>\n",
       "  <tbody>\n",
       "    <tr>\n",
       "      <th>0</th>\n",
       "      <td>2705</td>\n",
       "    </tr>\n",
       "    <tr>\n",
       "      <th>1</th>\n",
       "      <td>1516</td>\n",
       "    </tr>\n",
       "  </tbody>\n",
       "</table>\n",
       "</div>"
      ],
      "text/plain": [
       "         Symbol\n",
       "Target2        \n",
       "0          2705\n",
       "1          1516"
      ]
     },
     "execution_count": 8,
     "metadata": {},
     "output_type": "execute_result"
    }
   ],
   "source": [
    "#View the count for binary classifier\n",
    "count = df[['Target2', 'Symbol']].groupby('Target2').count()\n",
    "count"
   ]
  },
  {
   "cell_type": "code",
   "execution_count": 9,
   "metadata": {},
   "outputs": [],
   "source": [
    "from collections import Counter"
   ]
  },
  {
   "cell_type": "code",
   "execution_count": 10,
   "metadata": {
    "scrolled": false
   },
   "outputs": [
    {
     "data": {
      "image/png": "[encoded data removed]",
      "text/plain": [
       "<Figure size 288x360 with 1 Axes>"
      ]
     },
     "metadata": {
      "needs_background": "light"
     },
     "output_type": "display_data"
    }
   ],
   "source": [
    "labels, values = zip(*Counter(list(df['Target2'])).items())\n",
    "\n",
    "indexes = np.arange(len(labels))\n",
    "width = 1\n",
    "\n",
    "fig, ax = plt.subplots(figsize = (4,5))\n",
    "rects = ax.bar(indexes, values, width, label = 'Target2')\n",
    "\n",
    "#Labels\n",
    "ax.set_ylabel('Count')\n",
    "ax.set_xlabel('Target2')\n",
    "ax.set_title('5% in 10 days Target Counts')\n",
    "ax.set_xticks(indexes)\n",
    "rects[0].set_color('c')\n",
    "rects[1].set_color('g')\n",
    "\n",
    "for rect in rects:\n",
    "    height = rect.get_height()\n",
    "    ax.annotate('{}'.format(height),\n",
    "               xy = (rect.get_x() + rect.get_width() / 2, height),\n",
    "               xytext = (0, 3),\n",
    "               textcoords = \"offset points\",\n",
    "               ha = 'center', va = 'bottom')\n",
    "\n",
    "\n",
    "fig.tight_layout()\n",
    "    \n",
    "plt.show()"
   ]
  },
  {
   "cell_type": "markdown",
   "metadata": {},
   "source": [
    "### 2. TrainTestSplit and Feature Scaling"
   ]
  },
  {
   "cell_type": "code",
   "execution_count": 11,
   "metadata": {},
   "outputs": [],
   "source": [
    "#Features list for training. Since there was no preprocessing when concatenating df for each ticker, only ratio features\n",
    "#are valid for training.\n",
    "\n",
    "#X_features = list(df.columns)[8:-3]\n",
    "X_features = (['Vol_Ratio1',\n",
    "             'Open/Close',\n",
    "             'Low/Open',\n",
    "             'High/Open',\n",
    "             'DailyLogReturn',\n",
    "             'SquaredDailyLogReturn',\n",
    "             'SMA_Ratio',\n",
    "             'StochasticOscillator'])\n",
    "y_feature = 'Target2'"
   ]
  },
  {
   "cell_type": "code",
   "execution_count": 12,
   "metadata": {},
   "outputs": [],
   "source": [
    "from sklearn.model_selection import train_test_split"
   ]
  },
  {
   "cell_type": "code",
   "execution_count": 13,
   "metadata": {},
   "outputs": [],
   "source": [
    "X_train, X_test, y_train, y_test = train_test_split(df[X_features], df[y_feature], random_state = 0)"
   ]
  },
  {
   "cell_type": "code",
   "execution_count": 14,
   "metadata": {},
   "outputs": [],
   "source": [
    "#Scaling\n",
    "from sklearn.preprocessing import scale, MinMaxScaler"
   ]
  },
  {
   "cell_type": "code",
   "execution_count": 15,
   "metadata": {},
   "outputs": [],
   "source": [
    "X_train_scaled = MinMaxScaler().fit_transform(X_train)\n",
    "X_test_scaled = MinMaxScaler().fit_transform(X_test)"
   ]
  },
  {
   "cell_type": "markdown",
   "metadata": {},
   "source": [
    "### 3. Performance Metrics"
   ]
  },
  {
   "cell_type": "code",
   "execution_count": 16,
   "metadata": {},
   "outputs": [],
   "source": [
    "from sklearn.metrics import accuracy_score, recall_score, precision_score, confusion_matrix"
   ]
  },
  {
   "cell_type": "code",
   "execution_count": 17,
   "metadata": {},
   "outputs": [],
   "source": [
    "def performance(model, X_train, X_test, y_train, y_test):\n",
    "    y_pred_train = model.predict(X_train)\n",
    "    y_pred_test = model.predict(X_test)\n",
    "    \n",
    "    \n",
    "    print('Model train accuracy: %0.3f' % accuracy_score(y_train, y_pred_train))\n",
    "    print('Model test accuracy: %0.3f' % accuracy_score(y_test, y_pred_test))\n",
    "    \n",
    "    \n",
    "    \n",
    "    #confusion matrix\n",
    "    print('Confusion Matrix:')\n",
    "    cm = confusion_matrix(y_test, y_pred_test)\n",
    "    print(cm)\n",
    "    \n",
    "    print('')\n",
    "    #accuracy\n",
    "    print('Accuracy score: ', accuracy_score(y_test, y_pred_test))\n",
    "    \n",
    "    print(' ')\n",
    "    #recall score\n",
    "    print('Recall score: ', recall_score(y_test, y_pred_test, zero_division = 0))\n",
    "    \n",
    "    print(' ')\n",
    "    #precision score\n",
    "    print('Precision score: ', precision_score(y_test, y_pred_test))\n",
    "    \n",
    "    \n",
    "    return [accuracy_score(y_test, y_pred_test),\n",
    "            recall_score(y_test, y_pred_test, zero_division = 0),\n",
    "            precision_score(y_test, y_pred_test),\n",
    "            cm[0][0] + cm[1][0],\n",
    "            cm[0][1] + cm[1][1]]\n",
    "            "
   ]
  },
  {
   "cell_type": "markdown",
   "metadata": {},
   "source": [
    "### 4. Model1: DecisionTreeClassifier"
   ]
  },
  {
   "cell_type": "code",
   "execution_count": 18,
   "metadata": {},
   "outputs": [],
   "source": [
    "from sklearn.tree import DecisionTreeClassifier"
   ]
  },
  {
   "cell_type": "code",
   "execution_count": 19,
   "metadata": {},
   "outputs": [],
   "source": [
    "clf = DecisionTreeClassifier(random_state = 0)"
   ]
  },
  {
   "cell_type": "code",
   "execution_count": 20,
   "metadata": {
    "scrolled": true
   },
   "outputs": [],
   "source": [
    "model1 = clf.fit(X_train, y_train)"
   ]
  },
  {
   "cell_type": "code",
   "execution_count": 21,
   "metadata": {},
   "outputs": [
    {
     "name": "stdout",
     "output_type": "stream",
     "text": [
      "Model train accuracy: 1.000\n",
      "Model test accuracy: 0.550\n",
      "Confusion Matrix:\n",
      "[[439 255]\n",
      " [220 142]]\n",
      "\n",
      "Accuracy score:  0.5501893939393939\n",
      " \n",
      "Recall score:  0.39226519337016574\n",
      " \n",
      "Precision score:  0.35768261964735515\n"
     ]
    }
   ],
   "source": [
    "performance1 = performance(model1, X_train, X_test, y_train, y_test)"
   ]
  },
  {
   "cell_type": "markdown",
   "metadata": {},
   "source": [
    "### 5. Model2: RandomForestClassifier"
   ]
  },
  {
   "cell_type": "code",
   "execution_count": 22,
   "metadata": {},
   "outputs": [],
   "source": [
    "from sklearn.ensemble import RandomForestClassifier"
   ]
  },
  {
   "cell_type": "code",
   "execution_count": 23,
   "metadata": {},
   "outputs": [],
   "source": [
    "model2 = RandomForestClassifier().fit(X_train, y_train)"
   ]
  },
  {
   "cell_type": "code",
   "execution_count": 24,
   "metadata": {},
   "outputs": [
    {
     "name": "stdout",
     "output_type": "stream",
     "text": [
      "Model train accuracy: 1.000\n",
      "Model test accuracy: 0.648\n",
      "Confusion Matrix:\n",
      "[[591 103]\n",
      " [269  93]]\n",
      "\n",
      "Accuracy score:  0.6477272727272727\n",
      " \n",
      "Recall score:  0.2569060773480663\n",
      " \n",
      "Precision score:  0.4744897959183674\n"
     ]
    }
   ],
   "source": [
    "performance2 = performance(model2, X_train, X_test, y_train, y_test)"
   ]
  },
  {
   "cell_type": "markdown",
   "metadata": {},
   "source": [
    "###  6. Model3: LogisticRegression"
   ]
  },
  {
   "cell_type": "code",
   "execution_count": 25,
   "metadata": {},
   "outputs": [],
   "source": [
    "from sklearn.linear_model import LogisticRegression"
   ]
  },
  {
   "cell_type": "code",
   "execution_count": 26,
   "metadata": {},
   "outputs": [],
   "source": [
    "model3 = LogisticRegression().fit(X_train_scaled, y_train)"
   ]
  },
  {
   "cell_type": "code",
   "execution_count": 27,
   "metadata": {},
   "outputs": [
    {
     "name": "stdout",
     "output_type": "stream",
     "text": [
      "Model train accuracy: 0.640\n",
      "Model test accuracy: 0.653\n",
      "Confusion Matrix:\n",
      "[[683  11]\n",
      " [355   7]]\n",
      "\n",
      "Accuracy score:  0.6534090909090909\n",
      " \n",
      "Recall score:  0.019337016574585635\n",
      " \n",
      "Precision score:  0.3888888888888889\n"
     ]
    }
   ],
   "source": [
    "performance3 = performance(model3, X_train_scaled, X_test_scaled, y_train, y_test)"
   ]
  },
  {
   "cell_type": "markdown",
   "metadata": {},
   "source": [
    "### 7. Model4: SVC "
   ]
  },
  {
   "cell_type": "code",
   "execution_count": 28,
   "metadata": {},
   "outputs": [],
   "source": [
    "from sklearn.svm import SVC"
   ]
  },
  {
   "cell_type": "code",
   "execution_count": 29,
   "metadata": {},
   "outputs": [],
   "source": [
    "model4 = SVC().fit(X_train_scaled, y_train)"
   ]
  },
  {
   "cell_type": "code",
   "execution_count": 30,
   "metadata": {},
   "outputs": [
    {
     "name": "stdout",
     "output_type": "stream",
     "text": [
      "Model train accuracy: 0.643\n",
      "Model test accuracy: 0.660\n",
      "Confusion Matrix:\n",
      "[[692   2]\n",
      " [357   5]]\n",
      "\n",
      "Accuracy score:  0.6600378787878788\n",
      " \n",
      "Recall score:  0.013812154696132596\n",
      " \n",
      "Precision score:  0.7142857142857143\n"
     ]
    }
   ],
   "source": [
    "performance4 = performance(model4, X_train_scaled, X_test_scaled, y_train, y_test)"
   ]
  },
  {
   "cell_type": "markdown",
   "metadata": {},
   "source": [
    "### 8. Model5: KNN"
   ]
  },
  {
   "cell_type": "code",
   "execution_count": 31,
   "metadata": {},
   "outputs": [],
   "source": [
    "from sklearn.neighbors import KNeighborsClassifier"
   ]
  },
  {
   "cell_type": "code",
   "execution_count": 32,
   "metadata": {},
   "outputs": [],
   "source": [
    "model5 = KNeighborsClassifier().fit(X_train_scaled, y_train)"
   ]
  },
  {
   "cell_type": "code",
   "execution_count": 33,
   "metadata": {},
   "outputs": [
    {
     "name": "stdout",
     "output_type": "stream",
     "text": [
      "Model train accuracy: 0.737\n",
      "Model test accuracy: 0.488\n",
      "Confusion Matrix:\n",
      "[[284 410]\n",
      " [131 231]]\n",
      "\n",
      "Accuracy score:  0.4876893939393939\n",
      " \n",
      "Recall score:  0.638121546961326\n",
      " \n",
      "Precision score:  0.36037441497659906\n"
     ]
    }
   ],
   "source": [
    "performance5 = performance(model5, X_train_scaled, X_test_scaled, y_train, y_test)"
   ]
  },
  {
   "cell_type": "markdown",
   "metadata": {},
   "source": [
    "### 9. Model6: Dummy Classifier"
   ]
  },
  {
   "cell_type": "code",
   "execution_count": 34,
   "metadata": {},
   "outputs": [],
   "source": [
    "from sklearn.dummy import DummyClassifier"
   ]
  },
  {
   "cell_type": "code",
   "execution_count": 35,
   "metadata": {},
   "outputs": [],
   "source": [
    "strategy = ['stratified', 'most_frequent', 'prior', 'uniform']"
   ]
  },
  {
   "cell_type": "code",
   "execution_count": 36,
   "metadata": {
    "scrolled": true
   },
   "outputs": [
    {
     "name": "stdout",
     "output_type": "stream",
     "text": [
      "Strategy: stratified\n",
      "Model train accuracy: 0.532\n",
      "Model test accuracy: 0.516\n",
      "Confusion Matrix:\n",
      "[[423 271]\n",
      " [240 122]]\n",
      "\n",
      "Accuracy score:  0.5160984848484849\n",
      " \n",
      "Recall score:  0.3370165745856354\n",
      " \n",
      "Precision score:  0.3104325699745547\n",
      "\n",
      "\n",
      "Strategy: most_frequent\n",
      "Model train accuracy: 0.635\n",
      "Model test accuracy: 0.657\n",
      "Confusion Matrix:\n",
      "[[694   0]\n",
      " [362   0]]\n",
      "\n",
      "Accuracy score:  0.6571969696969697\n",
      " \n",
      "Recall score:  0.0\n",
      " \n",
      "Precision score:  0.0\n",
      "\n",
      "\n",
      "Strategy: prior\n",
      "Model train accuracy: 0.635\n",
      "Model test accuracy: 0.657\n",
      "Confusion Matrix:\n",
      "[[694   0]\n",
      " [362   0]]\n",
      "\n",
      "Accuracy score:  0.6571969696969697\n",
      " \n",
      "Recall score:  0.0\n",
      " \n",
      "Precision score:  0.0\n",
      "\n",
      "\n",
      "Strategy: uniform\n",
      "Model train accuracy: 0.522\n",
      "Model test accuracy: 0.488\n",
      "Confusion Matrix:\n",
      "[[346 348]\n",
      " [193 169]]\n",
      "\n",
      "Accuracy score:  0.4876893939393939\n",
      " \n",
      "Recall score:  0.46685082872928174\n",
      " \n",
      "Precision score:  0.32688588007736946\n",
      "\n",
      "\n"
     ]
    },
    {
     "name": "stderr",
     "output_type": "stream",
     "text": [
      "C:\\Users\\Eddie\\Anaconda3\\envs\\tensorflow\\lib\\site-packages\\sklearn\\metrics\\_classification.py:1221: UndefinedMetricWarning: Precision is ill-defined and being set to 0.0 due to no predicted samples. Use `zero_division` parameter to control this behavior.\n",
      "  _warn_prf(average, modifier, msg_start, len(result))\n"
     ]
    }
   ],
   "source": [
    "#Finding the best dummy (based on precision or 1's count)\n",
    "best_dummy = [0, 0, 0, 0, 0]\n",
    "for s in strategy:\n",
    "    print('Strategy: %s' %s)\n",
    "    model6 = DummyClassifier(strategy = s).fit(X_train, y_train)\n",
    "    performance6 = performance(model6, X_train, X_test, y_train, y_test)\n",
    "    if performance6[2] > best_dummy[2]:\n",
    "        best_dummy = performance6\n",
    "    print('\\n')"
   ]
  },
  {
   "cell_type": "markdown",
   "metadata": {},
   "source": [
    "### 10. Model Performance Comparisons"
   ]
  },
  {
   "cell_type": "code",
   "execution_count": 37,
   "metadata": {},
   "outputs": [
    {
     "data": {
      "image/png": "[encoded data removed]",
      "text/plain": [
       "<Figure size 720x360 with 1 Axes>"
      ]
     },
     "metadata": {
      "needs_background": "light"
     },
     "output_type": "display_data"
    }
   ],
   "source": [
    "#Plot performance\n",
    "\n",
    "labels = ['DecisionTree', 'RandomForest', 'LogisticRegression', 'SVC', 'KNN', 'Dummy']\n",
    "\n",
    "i = 0\n",
    "accuracy = [performance1[i], performance2[i], performance3[i], performance4[i], performance5[i], performance6[i]]\n",
    "i = 1\n",
    "recall = [performance1[i], performance2[i], performance3[i], performance4[i], performance5[i], performance6[i]]\n",
    "i = 2\n",
    "precision = [performance1[i], performance2[i], performance3[i], performance4[i], performance5[i], performance6[i]]\n",
    "\n",
    "\n",
    "x = np.arange(len(labels))\n",
    "width = 0.2\n",
    "\n",
    "fig, ax = plt.subplots(figsize = (10,5))\n",
    "rects1 = ax.bar(x - width, accuracy, width, label = 'Accuracy Score')\n",
    "rects2 = ax.bar(x, recall, width, label = 'Recall Score')\n",
    "rects3 = ax.bar(x+width, precision, width, label = 'Precision Score')\n",
    "\n",
    "\n",
    "ax.set_ylabel('Scores')\n",
    "ax.set_title('Classifiers Performance - with no tuning at all')\n",
    "ax.set_xticks(x)\n",
    "ax.set_xticklabels(labels)\n",
    "ax.legend(loc = 0)\n",
    "\n",
    "\n",
    "\n",
    "def autolabel(rects, ax):\n",
    "    # Get y-axis height to calculate label position from.\n",
    "    (y_bottom, y_top) = ax.get_ylim()\n",
    "    y_height = y_top - y_bottom\n",
    "\n",
    "    for rect in rects:\n",
    "        height = rect.get_height()\n",
    "\n",
    "        p_height = (height / y_height)\n",
    "\n",
    "        if p_height > 0.95: \n",
    "            label_position = height\n",
    "        else:\n",
    "            label_position = height + (y_height * 0.01)\n",
    "\n",
    "        ax.text(rect.get_x() + rect.get_width()/2, label_position,\n",
    "                '%.2f' % float(height),\n",
    "                ha='center', va='bottom',color='k',fontsize=12)        \n",
    "        \n",
    "        \n",
    "autolabel(rects1, ax)\n",
    "autolabel(rects2, ax)\n",
    "autolabel(rects3, ax)\n",
    "\n",
    "\n",
    "fig.tight_layout()\n",
    "plt.show()"
   ]
  },
  {
   "cell_type": "markdown",
   "metadata": {},
   "source": [
    "#### Based on the above plot, it looks like SVC has the best Precision Scores so far but we also notice that SVC and LogisticRegression have really low Recall Scores which would suggest they are not predicting any 1's. So we should take a look at the actual prediction counts next."
   ]
  },
  {
   "cell_type": "code",
   "execution_count": 38,
   "metadata": {},
   "outputs": [
    {
     "data": {
      "image/png": "[encoded data removed]",
      "text/plain": [
       "<Figure size 720x432 with 1 Axes>"
      ]
     },
     "metadata": {
      "needs_background": "light"
     },
     "output_type": "display_data"
    }
   ],
   "source": [
    "#Plot prediction (0,1) counts\n",
    "\n",
    "labels = ['DecisionTree', 'RandomForest', 'LogisticRegression', 'SVC', 'KNN', 'Dummy']\n",
    "\n",
    "i = 3\n",
    "zeros = [performance1[i], performance2[i], performance3[i], performance4[i], performance5[i], performance6[i]]\n",
    "i = 4\n",
    "ones = [performance1[i], performance2[i], performance3[i], performance4[i], performance5[i], performance6[i]]\n",
    "\n",
    "x = np.arange(len(labels))\n",
    "width = 0.2\n",
    "\n",
    "fig, ax = plt.subplots(figsize = (10,6))\n",
    "rects4 = ax.bar(x - width/2, zeros, width, label = \"0's Count\")\n",
    "rects5 = ax.bar(x + width/2, ones, width, label = \"1's Count\")\n",
    "\n",
    "\n",
    "ax.set_ylabel('Counts')\n",
    "ax.set_title('Classifiers Prediction Counts - with no tuning at all')\n",
    "ax.set_xticks(x)\n",
    "ax.set_xticklabels(labels)\n",
    "ax.legend(loc = 0)\n",
    "\n",
    "\n",
    "def autolabel(rects, ax):\n",
    "    (y_bottom, y_top) = ax.get_ylim()\n",
    "    y_height = y_top - y_bottom\n",
    "\n",
    "    for rect in rects:\n",
    "        height = rect.get_height()\n",
    "\n",
    "        p_height = (height / y_height)\n",
    "\n",
    "        if p_height > 0.95:\n",
    "            label_position = height # - (y_height * 0.05)\n",
    "        else:\n",
    "            label_position = height + (y_height * 0.01)\n",
    "\n",
    "        ax.text(rect.get_x() + rect.get_width()/2, label_position,\n",
    "                '%s' % str(height),\n",
    "                ha='center', va='bottom',color='k',fontsize=12)  \n",
    "\n",
    "\n",
    "\n",
    "\n",
    "autolabel(rects4, ax)\n",
    "autolabel(rects5, ax)"
   ]
  },
  {
   "cell_type": "markdown",
   "metadata": {},
   "source": [
    "#### Now we can see that although SVC seemed to have the best Precision Score, it has predicted the least 1's"
   ]
  },
  {
   "cell_type": "markdown",
   "metadata": {},
   "source": [
    "#### This might be okay for my purposes at the moment, a few more would be nicer though."
   ]
  }
 ],
 "metadata": {
  "kernelspec": {
   "display_name": "Python 3",
   "language": "python",
   "name": "python3"
  },
  "language_info": {
   "codemirror_mode": {
    "name": "ipython",
    "version": 3
   },
   "file_extension": ".py",
   "mimetype": "text/x-python",
   "name": "python",
   "nbconvert_exporter": "python",
   "pygments_lexer": "ipython3",
   "version": "3.7.7"
  }
 },
 "nbformat": 4,
 "nbformat_minor": 4
}
